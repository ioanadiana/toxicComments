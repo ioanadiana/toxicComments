{
 "cells": [
  {
   "cell_type": "code",
   "execution_count": 1,
   "metadata": {
    "scrolled": true
   },
   "outputs": [
    {
     "name": "stderr",
     "output_type": "stream",
     "text": [
      "Using Theano backend.\n"
     ]
    },
    {
     "ename": "NameError",
     "evalue": "name 'TrainSig' is not defined",
     "output_type": "error",
     "traceback": [
      "\u001b[0;31m---------------------------------------------------------------------------\u001b[0m",
      "\u001b[0;31mNameError\u001b[0m                                 Traceback (most recent call last)",
      "\u001b[0;32m<ipython-input-1-628784969bcc>\u001b[0m in \u001b[0;36m<module>\u001b[0;34m()\u001b[0m\n\u001b[1;32m     22\u001b[0m \u001b[0;34m\u001b[0m\u001b[0m\n\u001b[1;32m     23\u001b[0m \u001b[0;31m# Define the scaler\u001b[0m\u001b[0;34m\u001b[0m\u001b[0;34m\u001b[0m\u001b[0m\n\u001b[0;32m---> 24\u001b[0;31m \u001b[0mscaler\u001b[0m \u001b[0;34m=\u001b[0m \u001b[0mStandardScaler\u001b[0m\u001b[0;34m(\u001b[0m\u001b[0;34m)\u001b[0m\u001b[0;34m.\u001b[0m\u001b[0mfit\u001b[0m\u001b[0;34m(\u001b[0m\u001b[0mTrainSig\u001b[0m\u001b[0;34m)\u001b[0m\u001b[0;34m\u001b[0m\u001b[0m\n\u001b[0m\u001b[1;32m     25\u001b[0m \u001b[0;34m\u001b[0m\u001b[0m\n\u001b[1;32m     26\u001b[0m \u001b[0;31m# Scale the train set\u001b[0m\u001b[0;34m\u001b[0m\u001b[0;34m\u001b[0m\u001b[0m\n",
      "\u001b[0;31mNameError\u001b[0m: name 'TrainSig' is not defined"
     ]
    }
   ],
   "source": [
    "import scipy.io\n",
    "import scipy\n",
    "import numpy\n",
    "from sklearn.ensemble import RandomForestRegressor\n",
    "from sklearn import linear_model\n",
    "import matplotlib.pyplot as plt\n",
    "import pandas\n",
    "from keras.layers import Dropout\n",
    "from keras.models import Sequential\n",
    "from keras.layers import Dense\n",
    "from keras.wrappers.scikit_learn import KerasRegressor\n",
    "from sklearn.model_selection import cross_val_score\n",
    "from sklearn.model_selection import KFold\n",
    "from sklearn.preprocessing import StandardScaler\n",
    "from sklearn.pipeline import Pipeline\n",
    "from jupyterthemes import jtplot\n",
    "jtplot.style()\n",
    "\n",
    "#read in training data\n",
    "\n",
    "#read in test data\n",
    "\n",
    "# Define the scaler\n",
    "scaler = StandardScaler().fit(TrainSig)\n",
    "\n",
    "# Scale the train set\n",
    "TrainSig = scaler.transform(TrainSig)\n",
    "\n",
    "# Scale the test set\n",
    "TestSig = scaler.transform(TestSig)"
   ]
  },
  {
   "cell_type": "code",
   "execution_count": null,
   "metadata": {},
   "outputs": [],
   "source": [
    "# create model\n",
    "numpy.random.seed(2)\n",
    "model = Sequential()\n",
    "hidden_units = 300\n",
    "dropout_rate = 0.45\n",
    "e = 60\n",
    "\n",
    "# model.add(Dropout(0.1,input_shape=(TrainSig.shape[1],)))\n",
    "model.add(Dense(input_dim=TrainSig.shape[1],\n",
    "                kernel_initializer='he',\n",
    "                activation='relu',\n",
    "                units=hidden_units))\n",
    "model.add(Dropout(dropout_rate))\n",
    "model.add(Dense(input_dim=hidden_units,\n",
    "                kernel_initializer='normal',\n",
    "                activation='relu',\n",
    "                units=hidden_units))\n",
    "model.add(Dropout(dropout_rate))\n",
    "model.add(Dense(input_dim=hidden_units,\n",
    "                kernel_initializer='normal',\n",
    "                units=TrainParams.shape[1]))\n",
    "# Compile model\n",
    "model.compile(loss='mean_squared_error', optimizer='Adam')\n",
    "history = model.fit(TrainSig,\n",
    "         TrainParams,\n",
    "         epochs=e,\n",
    "         batch_size=50,\n",
    "         verbose=0,\n",
    "         validation_split=0.1)\n",
    "\n",
    "\n",
    "# predict test values using NN\n",
    "TestPredict = model.predict(TestSig)\n",
    "\n",
    "\n",
    "# summarize history for accuracy\n",
    "plt.plot(history.history['loss'])\n",
    "plt.title('Epochs vs Validation Loss')\n",
    "plt.ylabel('Mean squared error')\n",
    "plt.xlabel('Epoch')\n",
    "plt.legend(['val_loss'], loc='upper left')\n",
    "plt.show()\n",
    "\n"
   ]
  }
 ],
 "metadata": {
  "kernelspec": {
   "display_name": "Python 3",
   "language": "python",
   "name": "python3"
  },
  "language_info": {
   "codemirror_mode": {
    "name": "ipython",
    "version": 3
   },
   "file_extension": ".py",
   "mimetype": "text/x-python",
   "name": "python",
   "nbconvert_exporter": "python",
   "pygments_lexer": "ipython3",
   "version": "3.6.3"
  }
 },
 "nbformat": 4,
 "nbformat_minor": 2
}
